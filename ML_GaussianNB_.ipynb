{
  "cells": [
    {
      "cell_type": "code",
      "execution_count": 3,
      "metadata": {
        "id": "xLTwALCij0ZL"
      },
      "outputs": [],
      "source": [
        "import pandas as pd\n",
        "import numpy as np\n",
        "import matplotlib.pyplot as plt\n",
        "import seaborn as sns\n",
        "\n",
        "df = pd.read_csv('/content/healthcare-dataset-stroke-data.csv')\n",
        "df.head(10)\n",
        "df.drop(columns=['id','Residence_type'],axis=1,inplace=True)\n",
        "df = df[df['gender'] != 'Other']\n",
        "df = df[df['age'] >= 1]\n",
        "# Define a threshold for outlier detection\n",
        "bmi_threshold = 50\n",
        "\n",
        "# Filter out records with 'bmi' values beyond the threshold\n",
        "df = df[df['bmi'] <= bmi_threshold]\n",
        "from sklearn.model_selection import train_test_split\n",
        "\n",
        "# Splitting the DataFrame into training and test sets\n",
        "train_df, test_df = train_test_split(df, test_size=0.2, random_state=42)\n",
        "\n",
        "# Calculate the median of the 'bmi' column in the training set\n",
        "train_median_bmi = train_df['bmi'].median()\n",
        "\n",
        "# Fill missing values in the training set\n",
        "train_df['bmi'].fillna(train_median_bmi, inplace=True)\n",
        "\n",
        "# Fill missing values in the test set using the median from the training set\n",
        "test_df['bmi'].fillna(train_median_bmi, inplace=True)\n",
        "from sklearn.preprocessing import LabelEncoder\n",
        "\n",
        "label_encode_cols = ['smoking_status', 'work_type']\n",
        "# Initialize LabelEncoder\n",
        "label_encoder = LabelEncoder()\n",
        "\n",
        "# Apply label encoding for each column in training and test sets\n",
        "for col in label_encode_cols:\n",
        "    train_df[col] = label_encoder.fit_transform(train_df[col])\n",
        "    test_df[col] = label_encoder.transform(test_df[col])\n",
        "# Columns to one-hot encode\n",
        "onehot_cols = ['gender','ever_married']\n",
        "\n",
        "# Apply one-hot encoding to training set\n",
        "train_df_onehot = pd.get_dummies(train_df, columns=onehot_cols)\n",
        "\n",
        "# Apply one-hot encoding to test set\n",
        "test_df_onehot = pd.get_dummies(test_df, columns=onehot_cols)\n",
        "\n",
        "# Scaler -> min max scaler\n",
        "from sklearn.preprocessing import MinMaxScaler\n",
        "\n",
        "# Initialize MinMaxScaler\n",
        "scaler = MinMaxScaler()\n",
        "\n",
        "# Columns to scale\n",
        "scale_cols = ['age', 'bmi','avg_glucose_level']\n",
        "\n",
        "# Fit the scaler on the training data and transform both training and test data.\n",
        "scaler.fit(train_df_onehot[scale_cols])\n",
        "\n",
        "train_df_onehot[scale_cols] = scaler.transform(train_df_onehot[scale_cols])\n",
        "test_df_onehot[scale_cols] = scaler.transform(test_df_onehot[scale_cols])\n",
        "\n",
        "X_train = train_df_onehot.drop('stroke',axis=1)\n",
        "y_train = train_df_onehot['stroke']\n",
        "\n",
        "X_test = test_df_onehot.drop('stroke',axis=1)\n",
        "y_test = test_df_onehot['stroke']"
      ]
    },
    {
      "cell_type": "code",
      "execution_count": 4,
      "metadata": {
        "colab": {
          "base_uri": "https://localhost:8080/"
        },
        "id": "yYL4S6ADpuNB",
        "outputId": "eafb88e8-30c0-48a1-beb6-768991d88cec"
      },
      "outputs": [
        {
          "output_type": "stream",
          "name": "stdout",
          "text": [
            "Best Score: 0.859227631870851\n",
            "Best Hyperparameters: {'priors': None}\n"
          ]
        }
      ],
      "source": [
        "from sklearn.model_selection import GridSearchCV\n",
        "from sklearn.naive_bayes import GaussianNB\n",
        "\n",
        "# Define the hyperparameters grid for Naive Bayes\n",
        "param_grid = {\n",
        "    'priors': [None, [0.5, 0.5], [0.7, 0.3], [0.3, 0.7]],  # Different types of priors\n",
        "}\n",
        "\n",
        "# Create the Naive Bayes model\n",
        "naive_bayes = GaussianNB()\n",
        "\n",
        "# Create GridSearchCV object\n",
        "grid_search = GridSearchCV(estimator=naive_bayes, param_grid=param_grid, cv=5, n_jobs=-1, scoring='accuracy')\n",
        "\n",
        "# Fit the model\n",
        "grid_search.fit(X_train, y_train)\n",
        "\n",
        "# Get the best hyperparameters\n",
        "best_params = grid_search.best_params_\n",
        "best_score = grid_search.best_score_\n",
        "print(\"Best Score:\", best_score)\n",
        "print(\"Best Hyperparameters:\", best_params)\n",
        "\n",
        "# Get the best model\n",
        "best_model = grid_search.best_estimator_\n"
      ]
    },
    {
      "cell_type": "code",
      "execution_count": 5,
      "metadata": {
        "colab": {
          "base_uri": "https://localhost:8080/"
        },
        "id": "TEzLfjMGqpM-",
        "outputId": "310d6ae8-a553-4d4d-cca1-1bc651bc8401"
      },
      "outputs": [
        {
          "output_type": "stream",
          "name": "stdout",
          "text": [
            "0.8507306889352818\n"
          ]
        }
      ],
      "source": [
        "naive_bayes=GaussianNB(priors=None)\n",
        "naive_bayes.fit(X_train,y_train)\n",
        "print(naive_bayes.score(X_test,y_test))"
      ]
    },
    {
      "cell_type": "code",
      "execution_count": 6,
      "metadata": {
        "id": "a9PRboC5MAM3"
      },
      "outputs": [],
      "source": [
        "from imblearn.combine import SMOTEENN\n",
        "\n",
        "smote_enn = SMOTEENN(random_state=42)\n",
        "X_train_resampled, y_train_resampled = smote_enn.fit_resample(X_train, y_train)\n"
      ]
    },
    {
      "cell_type": "code",
      "execution_count": 7,
      "metadata": {
        "id": "LCjx3y_-MIHv",
        "colab": {
          "base_uri": "https://localhost:8080/"
        },
        "outputId": "81146c09-f071-4595-b87a-56ea886cc2e8"
      },
      "outputs": [
        {
          "output_type": "stream",
          "name": "stdout",
          "text": [
            "Accuracy: 0.6492693110647182\n"
          ]
        }
      ],
      "source": [
        "naive_bayes.fit(X_train_resampled, y_train_resampled)\n",
        "accuracy = naive_bayes.score(X_test, y_test)\n",
        "print(\"Accuracy:\", accuracy)"
      ]
    },
    {
      "cell_type": "code",
      "execution_count": 8,
      "metadata": {
        "colab": {
          "base_uri": "https://localhost:8080/",
          "height": 410
        },
        "id": "cMOS7PRFqpF0",
        "outputId": "557a7bb8-6435-4cc6-c5e3-4f579af5e85c"
      },
      "outputs": [
        {
          "output_type": "display_data",
          "data": {
            "text/plain": [
              "<Figure size 600x400 with 2 Axes>"
            ],
            "image/png": "[encoded data removed]"
          },
          "metadata": {}
        }
      ],
      "source": [
        "from sklearn.metrics import confusion_matrix\n",
        "import seaborn as sns\n",
        "import matplotlib.pyplot as plt\n",
        "\n",
        "# Make predictions on the test data\n",
        "y_pred = naive_bayes.predict(X_test)\n",
        "\n",
        "# Generate confusion matrix\n",
        "cm = confusion_matrix(y_test, y_pred)\n",
        "\n",
        "# Plot confusion matrix\n",
        "plt.figure(figsize=(6, 4))\n",
        "sns.heatmap(cm, annot=True, fmt='d', cmap='Blues')\n",
        "plt.xlabel('Predicted labels')\n",
        "plt.ylabel('True labels')\n",
        "plt.title('Confusion Matrix for naive_bayes Model')\n",
        "plt.show()\n"
      ]
    },
    {
      "cell_type": "code",
      "execution_count": null,
      "metadata": {
        "id": "Lof717ySqo93"
      },
      "outputs": [],
      "source": []
    },
    {
      "cell_type": "code",
      "execution_count": null,
      "metadata": {
        "id": "oizqgyUyqo46"
      },
      "outputs": [],
      "source": []
    },
    {
      "cell_type": "code",
      "execution_count": null,
      "metadata": {
        "id": "06iGGiC8qosA"
      },
      "outputs": [],
      "source": []
    }
  ],
  "metadata": {
    "colab": {
      "provenance": []
    },
    "kernelspec": {
      "display_name": "Python 3",
      "name": "python3"
    },
    "language_info": {
      "name": "python"
    }
  },
  "nbformat": 4,
  "nbformat_minor": 0
}