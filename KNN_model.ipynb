{
  "nbformat": 4,
  "nbformat_minor": 0,
  "metadata": {
    "colab": {
      "provenance": []
    },
    "kernelspec": {
      "name": "python3",
      "display_name": "Python 3"
    },
    "language_info": {
      "name": "python"
    }
  },
  "cells": [
    {
      "cell_type": "code",
      "execution_count": 7,
      "metadata": {
        "id": "LvdqmnTIWnlP"
      },
      "outputs": [],
      "source": [
        "import pandas as pd\n",
        "import numpy as np\n",
        "import matplotlib.pyplot as plt\n",
        "import seaborn as sns\n",
        "\n",
        "df = pd.read_csv('/content/healthcare-dataset-stroke-data.csv')\n",
        "df.head(10)\n",
        "df.drop(columns=['id','Residence_type'],axis=1,inplace=True)\n",
        "df = df[df['gender'] != 'Other']\n",
        "# df = df[df['age'] >= 1]\n",
        "# # Define a threshold for outlier detection\n",
        "# bmi_threshold = 50\n",
        "\n",
        "# # Filter out records with 'bmi' values beyond the threshold\n",
        "# df = df[df['bmi'] <= bmi_threshold]\n",
        "from sklearn.model_selection import train_test_split\n",
        "\n",
        "# Splitting the DataFrame into training and test sets\n",
        "train_df, test_df = train_test_split(df, test_size=0.2, random_state=42)\n",
        "\n",
        "# Calculate the median of the 'bmi' column in the training set\n",
        "train_median_bmi = train_df['bmi'].median()\n",
        "\n",
        "# Fill missing values in the training set\n",
        "train_df['bmi'].fillna(train_median_bmi, inplace=True)\n",
        "\n",
        "# Fill missing values in the test set using the median from the training set\n",
        "test_df['bmi'].fillna(train_median_bmi, inplace=True)\n",
        "from sklearn.preprocessing import LabelEncoder\n",
        "\n",
        "label_encode_cols = ['smoking_status', 'work_type']\n",
        "# Initialize LabelEncoder\n",
        "label_encoder = LabelEncoder()\n",
        "\n",
        "# Apply label encoding for each column in training and test sets\n",
        "for col in label_encode_cols:\n",
        "    train_df[col] = label_encoder.fit_transform(train_df[col])\n",
        "    test_df[col] = label_encoder.transform(test_df[col])\n",
        "# Columns to one-hot encode\n",
        "onehot_cols = ['gender','ever_married']\n",
        "\n",
        "# Apply one-hot encoding to training set\n",
        "train_df_onehot = pd.get_dummies(train_df, columns=onehot_cols)\n",
        "\n",
        "# Apply one-hot encoding to test set\n",
        "test_df_onehot = pd.get_dummies(test_df, columns=onehot_cols)\n",
        "\n",
        "# Scaler -> min max scaler\n",
        "from sklearn.preprocessing import MinMaxScaler\n",
        "\n",
        "# Initialize MinMaxScaler\n",
        "scaler = MinMaxScaler()\n",
        "\n",
        "# Columns to scale\n",
        "scale_cols = ['age', 'bmi','avg_glucose_level']\n",
        "\n",
        "# Fit the scaler on the training data and transform both training and test data.\n",
        "scaler.fit(train_df_onehot[scale_cols])\n",
        "\n",
        "train_df_onehot[scale_cols] = scaler.transform(train_df_onehot[scale_cols])\n",
        "test_df_onehot[scale_cols] = scaler.transform(test_df_onehot[scale_cols])\n",
        "\n",
        "X_train = train_df_onehot.drop('stroke',axis=1)\n",
        "y_train = train_df_onehot['stroke']\n",
        "\n",
        "X_test = test_df_onehot.drop('stroke',axis=1)\n",
        "y_test = test_df_onehot['stroke']"
      ]
    },
    {
      "cell_type": "code",
      "source": [
        "from sklearn.model_selection import GridSearchCV\n",
        "from sklearn.neighbors import KNeighborsClassifier\n",
        "from sklearn.metrics import confusion_matrix\n",
        "import seaborn as sns\n",
        "import matplotlib.pyplot as plt\n",
        "\n",
        "# Define the hyperparameters grid for KNN\n",
        "param_grid = {\n",
        "    'n_neighbors': [3, 5, 7, 9],  # Different numbers of neighbors to consider\n",
        "    'weights': ['uniform', 'distance'],  # Different weighting schemes\n",
        "    'p': [1, 2]  # L1 and L2 distance metrics\n",
        "}\n",
        "\n",
        "# Create the KNN model\n",
        "knn = KNeighborsClassifier()\n",
        "\n",
        "# Create GridSearchCV object\n",
        "grid_search = GridSearchCV(estimator=knn, param_grid=param_grid, cv=5, n_jobs=-1, scoring='accuracy')\n",
        "\n",
        "# Fit the model\n",
        "grid_search.fit(X_train, y_train)\n",
        "\n",
        "# Get the best hyperparameters\n",
        "best_params = grid_search.best_params_\n",
        "best_score = grid_search.best_score_\n",
        "print(\"Best Score:\", best_score)\n",
        "print(\"Best Hyperparameters:\", best_params)\n",
        "\n",
        "# Get the best model\n",
        "best_model = grid_search.best_estimator_\n",
        "\n"
      ],
      "metadata": {
        "id": "4S00A06Qbjdz",
        "colab": {
          "base_uri": "https://localhost:8080/"
        },
        "outputId": "e84850b6-d6ef-4821-dd3e-8352e7613372"
      },
      "execution_count": 8,
      "outputs": [
        {
          "output_type": "stream",
          "name": "stdout",
          "text": [
            "Best Score: 0.954000412984471\n",
            "Best Hyperparameters: {'n_neighbors': 7, 'p': 1, 'weights': 'uniform'}\n"
          ]
        }
      ]
    },
    {
      "cell_type": "code",
      "source": [
        "knn_model=KNeighborsClassifier(n_neighbors=7,p=1,weights='uniform')\n",
        "knn_model.fit(X_train,y_train)\n",
        "print(knn_model.score(X_test,y_test))\n"
      ],
      "metadata": {
        "colab": {
          "base_uri": "https://localhost:8080/"
        },
        "id": "bPLiHiGnK03_",
        "outputId": "a7e90fa5-5af6-4deb-d270-d7cf6dbe0b61"
      },
      "execution_count": 9,
      "outputs": [
        {
          "output_type": "stream",
          "name": "stdout",
          "text": [
            "0.9334637964774951\n"
          ]
        }
      ]
    },
    {
      "cell_type": "code",
      "source": [
        "# Evaluate the best model\n",
        "print(\"Accuracy on test set:\", knn_model.score(X_test, y_test))\n",
        "\n",
        "# Make predictions on the test data\n",
        "y_pred = knn_model.predict(X_test)\n",
        "\n",
        "# Generate confusion matrix\n",
        "cm = confusion_matrix(y_test, y_pred)\n",
        "\n",
        "# Plot confusion matrix\n",
        "plt.figure(figsize=(6, 4))\n",
        "sns.heatmap(cm, annot=True, fmt='d', cmap='Blues')\n",
        "plt.xlabel('Predicted labels')\n",
        "plt.ylabel('True labels')\n",
        "plt.title('Confusion Matrix for KNN Model')\n",
        "plt.show()\n"
      ],
      "metadata": {
        "colab": {
          "base_uri": "https://localhost:8080/",
          "height": 428
        },
        "id": "Z0dMXQXuKs0R",
        "outputId": "530f08c6-6145-4fa3-9473-294a1f72f171"
      },
      "execution_count": 10,
      "outputs": [
        {
          "output_type": "stream",
          "name": "stdout",
          "text": [
            "Accuracy on test set: 0.9334637964774951\n"
          ]
        },
        {
          "output_type": "display_data",
          "data": {
            "text/plain": [
              "<Figure size 600x400 with 2 Axes>"
            ],
            "image/png": "[encoded data removed]"
          },
          "metadata": {}
        }
      ]
    },
    {
      "cell_type": "code",
      "source": [
        "from imblearn.combine import SMOTEENN\n",
        "\n",
        "smote_enn = SMOTEENN(random_state=42)\n",
        "X_train_resampled, y_train_resampled = smote_enn.fit_resample(X_train, y_train)\n"
      ],
      "metadata": {
        "id": "4A12rbofMmNW"
      },
      "execution_count": 11,
      "outputs": []
    },
    {
      "cell_type": "code",
      "source": [
        "\n",
        "knn_model.fit(X_train_resampled, y_train_resampled)\n",
        "accuracy = knn_model.score(X_test, y_test)\n",
        "print(\"Accuracy:\", accuracy)"
      ],
      "metadata": {
        "colab": {
          "base_uri": "https://localhost:8080/"
        },
        "id": "dfxuKG8zMmGg",
        "outputId": "f0914b73-8a5a-42d5-a884-9cc04fb0d9d8"
      },
      "execution_count": 12,
      "outputs": [
        {
          "output_type": "stream",
          "name": "stdout",
          "text": [
            "Accuracy: 0.7318982387475538\n"
          ]
        }
      ]
    },
    {
      "cell_type": "code",
      "source": [
        "# Evaluate the best model\n",
        "print(\"Accuracy on test set:\", knn_model.score(X_test, y_test))\n",
        "\n",
        "# Make predictions on the test data\n",
        "y_pred = knn_model.predict(X_test)\n",
        "\n",
        "# Generate confusion matrix\n",
        "cm = confusion_matrix(y_test, y_pred)\n",
        "\n",
        "# Plot confusion matrix\n",
        "plt.figure(figsize=(6, 4))\n",
        "sns.heatmap(cm, annot=True, fmt='d', cmap='Blues')\n",
        "plt.xlabel('Predicted labels')\n",
        "plt.ylabel('True labels')\n",
        "plt.title('Confusion Matrix for KNN Model')\n",
        "plt.show()\n"
      ],
      "metadata": {
        "colab": {
          "base_uri": "https://localhost:8080/",
          "height": 428
        },
        "id": "R1Lv10PkMmC6",
        "outputId": "a3b7194c-4522-4d2c-a347-96a3cfc840bf"
      },
      "execution_count": 13,
      "outputs": [
        {
          "output_type": "stream",
          "name": "stdout",
          "text": [
            "Accuracy on test set: 0.7318982387475538\n"
          ]
        },
        {
          "output_type": "display_data",
          "data": {
            "text/plain": [
              "<Figure size 600x400 with 2 Axes>"
            ],
            "image/png": "[encoded data removed]"
          },
          "metadata": {}
        }
      ]
    }
  ]
}